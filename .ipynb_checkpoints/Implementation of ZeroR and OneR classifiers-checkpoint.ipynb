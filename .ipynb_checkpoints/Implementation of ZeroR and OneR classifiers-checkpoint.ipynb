{
 "cells": [
  {
   "cell_type": "markdown",
   "id": "89510f74",
   "metadata": {},
   "source": [
    "# Random Prediction classifier"
   ]
  },
  {
   "cell_type": "code",
   "execution_count": 1,
   "id": "0eeac56c",
   "metadata": {},
   "outputs": [],
   "source": [
    "import pandas as pd"
   ]
  },
  {
   "cell_type": "code",
   "execution_count": 2,
   "id": "7363dfe8",
   "metadata": {},
   "outputs": [],
   "source": [
    "wt = pd.read_csv('weather.csv')"
   ]
  },
  {
   "cell_type": "code",
   "execution_count": 3,
   "id": "0f30a724",
   "metadata": {},
   "outputs": [
    {
     "data": {
      "text/html": [
       "<div>\n",
       "<style scoped>\n",
       "    .dataframe tbody tr th:only-of-type {\n",
       "        vertical-align: middle;\n",
       "    }\n",
       "\n",
       "    .dataframe tbody tr th {\n",
       "        vertical-align: top;\n",
       "    }\n",
       "\n",
       "    .dataframe thead th {\n",
       "        text-align: right;\n",
       "    }\n",
       "</style>\n",
       "<table border=\"1\" class=\"dataframe\">\n",
       "  <thead>\n",
       "    <tr style=\"text-align: right;\">\n",
       "      <th></th>\n",
       "      <th>Outlook</th>\n",
       "      <th>Temperature</th>\n",
       "      <th>Humidity</th>\n",
       "      <th>Windy</th>\n",
       "      <th>Play</th>\n",
       "    </tr>\n",
       "  </thead>\n",
       "  <tbody>\n",
       "    <tr>\n",
       "      <th>0</th>\n",
       "      <td>sunny</td>\n",
       "      <td>hot</td>\n",
       "      <td>high</td>\n",
       "      <td>False</td>\n",
       "      <td>no</td>\n",
       "    </tr>\n",
       "    <tr>\n",
       "      <th>1</th>\n",
       "      <td>sunny</td>\n",
       "      <td>hot</td>\n",
       "      <td>high</td>\n",
       "      <td>True</td>\n",
       "      <td>no</td>\n",
       "    </tr>\n",
       "    <tr>\n",
       "      <th>2</th>\n",
       "      <td>overcast</td>\n",
       "      <td>hot</td>\n",
       "      <td>high</td>\n",
       "      <td>False</td>\n",
       "      <td>yes</td>\n",
       "    </tr>\n",
       "    <tr>\n",
       "      <th>3</th>\n",
       "      <td>rainy</td>\n",
       "      <td>mild</td>\n",
       "      <td>high</td>\n",
       "      <td>False</td>\n",
       "      <td>yes</td>\n",
       "    </tr>\n",
       "    <tr>\n",
       "      <th>4</th>\n",
       "      <td>rainy</td>\n",
       "      <td>cool</td>\n",
       "      <td>normal</td>\n",
       "      <td>False</td>\n",
       "      <td>yes</td>\n",
       "    </tr>\n",
       "  </tbody>\n",
       "</table>\n",
       "</div>"
      ],
      "text/plain": [
       "    Outlook Temperature Humidity  Windy Play\n",
       "0     sunny         hot     high  False   no\n",
       "1     sunny         hot     high   True   no\n",
       "2  overcast         hot     high  False  yes\n",
       "3     rainy        mild     high  False  yes\n",
       "4     rainy        cool   normal  False  yes"
      ]
     },
     "execution_count": 3,
     "metadata": {},
     "output_type": "execute_result"
    }
   ],
   "source": [
    "wt.head()"
   ]
  },
  {
   "cell_type": "code",
   "execution_count": 11,
   "id": "893f0bbf",
   "metadata": {},
   "outputs": [],
   "source": [
    "def Random_Prediction(train, test):\n",
    "    column_train = train.columns.tolist() # getting the columns of training set\n",
    "    print(column_train) \n",
    "    target_column = column_train[len(column_train)-1] # selecting the target column, assuming that last column is the target column\n",
    "    print(target_column)\n",
    "    unique_vals = train[target_column].unique() # getting the unique values of the target column e.g. Yes or No\n",
    "    print(unique_vals) \n",
    "    actual_values_test = test[target_column] # getting the values of the target column and storing it in this variable\n",
    "    #print(actual_values_test)\n",
    "    prediction = []  # this list will hold the predicted values of the target column\n",
    "    import random\n",
    "    for x in actual_values_test: \n",
    "        prediction.append(random.choice(unique_vals))\n",
    "    actual_values = actual_values_test.tolist()\n",
    "    #print(\"Actual Values in list \", actual_values)\n",
    "    #print(\"Predicted values \", prediction)\n",
    "    \n",
    "    score = 0\n",
    "    i = 0\n",
    "    \n",
    "    for x in actual_values:\n",
    "        if prediction[i]==x:\n",
    "            score += 1\n",
    "            \n",
    "        i= i+1\n",
    "        \n",
    "    #print(score)\n",
    "    \n",
    "    #print('Accuracy of the model: ', score*100/len(actual_values))\n",
    "                \n",
    "                          \n",
    "                          \n",
    "                          \n",
    "                          \n",
    "                              "
   ]
  },
  {
   "cell_type": "code",
   "execution_count": 55,
   "id": "779783d2",
   "metadata": {},
   "outputs": [
    {
     "name": "stdout",
     "output_type": "stream",
     "text": [
      "['Outlook', 'Temperature', 'Humidity', 'Windy', 'Play']\n",
      "Play\n",
      "['no' 'yes']\n",
      "Actual Values in list  ['no', 'no', 'yes', 'yes', 'yes', 'no', 'yes', 'no', 'yes', 'yes', 'yes', 'yes', 'yes', 'no']\n",
      "Predicted values  ['yes', 'no', 'no', 'yes', 'yes', 'no', 'yes', 'yes', 'no', 'yes', 'yes', 'yes', 'yes', 'yes']\n",
      "9\n",
      "Accuracy of the model:  64.28571428571429\n"
     ]
    }
   ],
   "source": [
    "Random_Prediction(wt, wt)"
   ]
  },
  {
   "cell_type": "markdown",
   "id": "78a7a6ea",
   "metadata": {},
   "source": [
    "# ZeroR classifier"
   ]
  },
  {
   "cell_type": "code",
   "execution_count": 42,
   "id": "6c359732",
   "metadata": {},
   "outputs": [],
   "source": [
    "def ZeroR(train, test):\n",
    "    column_train = train.columns.tolist() # getting the columns of training set\n",
    "    target_column = column_train[len(column_train)-1] # selecting the target column, assuming that last column is the target column # getting the unique values of the target column e.g. Yes or No\n",
    "    actual_values_test = test[target_column]\n",
    "    output = train[target_column].mode()[0]\n",
    "    \n",
    "    prediction=[]\n",
    "    for x in actual_values_test:\n",
    "        prediction.append(output)\n",
    "    actual_values = actual_values_test.tolist()\n",
    "    score = 0\n",
    "    i = 0\n",
    "    \n",
    "    for x in actual_values:\n",
    "        if prediction[i]==x:\n",
    "            score += 1\n",
    "            \n",
    "        i= i+1\n",
    "    print(\"Actual Values in list \", actual_values)\n",
    "    print(\"Predicted values \", prediction)    \n",
    "    print('Accuracy of the model: ', score*100/len(actual_values))"
   ]
  },
  {
   "cell_type": "code",
   "execution_count": 41,
   "id": "85aec3be",
   "metadata": {},
   "outputs": [
    {
     "name": "stdout",
     "output_type": "stream",
     "text": [
      "[['rainy', 'mild', 'normal', False, 'yes'], ['overcast', 'mild', 'high', True, 'yes'], ['sunny', 'hot', 'high', False, 'no'], ['overcast', 'hot', 'normal', False, 'yes'], ['rainy', 'cool', 'normal', True, 'no']]\n"
     ]
    },
    {
     "data": {
      "text/plain": [
       "(5, 5)"
      ]
     },
     "execution_count": 41,
     "metadata": {},
     "output_type": "execute_result"
    }
   ],
   "source": [
    "wt.shape\n",
    "wtl = wt.values.tolist()\n",
    "#print(wtl)\n",
    "from sklearn.model_selection import train_test_split\n",
    "X_train, X_test= train_test_split(  wtl, test_size=0.33, random_state=42)\n",
    "#print(X_train)\n",
    "print( X_test)\n",
    "tt = X_train\n",
    "t = X_test\n",
    "import pandas\n",
    "ttt = pandas.DataFrame(tt)\n",
    "tttt = pandas.DataFrame(t)\n",
    "\n",
    "tttt.shape\n",
    "\n"
   ]
  },
  {
   "cell_type": "code",
   "execution_count": 43,
   "id": "7b0756f9",
   "metadata": {},
   "outputs": [
    {
     "name": "stdout",
     "output_type": "stream",
     "text": [
      "Actual Values in list  ['no', 'no', 'yes', 'yes', 'yes', 'no', 'yes', 'no', 'yes', 'yes', 'yes', 'yes', 'yes', 'no']\n",
      "Predicted values  ['yes', 'yes', 'yes', 'yes', 'yes', 'yes', 'yes', 'yes', 'yes', 'yes', 'yes', 'yes', 'yes', 'yes']\n",
      "Accuracy of the model:  64.28571428571429\n"
     ]
    }
   ],
   "source": [
    "ZeroR(wt,wt)"
   ]
  },
  {
   "cell_type": "code",
   "execution_count": null,
   "id": "49074cd8",
   "metadata": {},
   "outputs": [],
   "source": []
  }
 ],
 "metadata": {
  "kernelspec": {
   "display_name": "Python 3",
   "language": "python",
   "name": "python3"
  },
  "language_info": {
   "codemirror_mode": {
    "name": "ipython",
    "version": 3
   },
   "file_extension": ".py",
   "mimetype": "text/x-python",
   "name": "python",
   "nbconvert_exporter": "python",
   "pygments_lexer": "ipython3",
   "version": "3.8.8"
  }
 },
 "nbformat": 4,
 "nbformat_minor": 5
}
